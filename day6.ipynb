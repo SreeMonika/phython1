{
 "cells": [
  {
   "cell_type": "code",
   "execution_count": null,
   "id": "5f2743cb",
   "metadata": {},
   "outputs": [],
   "source": [
    "# function definition\n",
    "# Note: This function does not take any argument and does not return any value\n",
    "# Note: By default every function in python returns None\n",
    "def my_function():\n",
    "    print(\"This is my first function\")\n",
    "    \n",
    "my_function() # function call\n",
    "my_function() # function call\n",
    "ref=my_function() # function call\n",
    "print(ref)"
   ]
  },
  {
   "cell_type": "code",
   "execution_count": null,
   "id": "1b43e81a",
   "metadata": {},
   "outputs": [],
   "source": [
    "# Here add takes 2 arguments are returns a single value\n",
    "def add(value_1,value_2): # value_1 and value_2 are called as parameters\n",
    "    return value_1+value_2\n",
    "\n",
    "total=add(100,200) # 100 and 200 are called as unamed arguments\n",
    "print(total)\n",
    "total=add(3.142,4.56)\n",
    "print(total)\n",
    "total=add(\"sachin\",\"sehwag\")\n",
    "print(total)\n",
    "total=add(10+5j,90+7j)\n",
    "print(total)"
   ]
  },
  {
   "cell_type": "code",
   "execution_count": null,
   "id": "64af08e2",
   "metadata": {},
   "outputs": [],
   "source": [
    "# Note: This function takes default arguments\n",
    "# Note: Only trailing arguments can be defaulted\n",
    "def add(value_1,value_2=0): # value_1 and value_2 are called as parameters\n",
    "    return value_1+value_2\n",
    "\n",
    "print(add(10))\n",
    "print(add(\"sachin\",\"sehwag\"))"
   ]
  },
  {
   "cell_type": "code",
   "execution_count": null,
   "id": "a21cf1b3",
   "metadata": {},
   "outputs": [],
   "source": [
    "students=[\n",
    "              {\"name\":\"jayanth\",\"marks\":[90,80,90,95,99]},\n",
    "              {\"name\":\"pushpa\",\"marks\":[90,80,90]},\n",
    "              {\"name\":\"reefa\",\"marks\":[90,80,90,95]}\n",
    "         ]\n",
    "\n",
    "def average(marks):\n",
    "    return sum(marks)/len(marks)\n",
    "\n",
    "for student in students:\n",
    "    print(average(student[\"marks\"]))"
   ]
  },
  {
   "cell_type": "code",
   "execution_count": null,
   "id": "30ce31ef",
   "metadata": {},
   "outputs": [],
   "source": [
    "# keyword arguments or named arguments to functions\n",
    "\n",
    "def display_details(movie=\"\",actor=\"\",year=\"\"):\n",
    "    print(f\"{actor} acts in {movie} movie released in {year}\")\n",
    "\n",
    "display_details(\"braveheart\",\"melgibson\",1990) # unnamed arguments\n",
    "display_details(movie=\"phenomenon\",actor=\"john travolta\",year=1995) # keyword arguments /named args\n",
    "display_details(year=2000,movie=\"beautiful mind\",actor=\"russel crowe\")\n",
    "display_details(\"braveheart\",actor=\"melgibson\",year=1990)\n",
    "# Note: Rule is first unnamed args and then keyword arugments\n",
    "display_details(\"braveheart\",actor=\"melgibson\",year=1990)"
   ]
  },
  {
   "cell_type": "code",
   "execution_count": null,
   "id": "462b891f",
   "metadata": {},
   "outputs": [],
   "source": [
    "# variable number of arguments\n",
    "# use * to create a tuple which can hold variable number of unnamed arguments\n",
    "def show(*args):\n",
    "    #print(type(args))\n",
    "    for item in args:\n",
    "        print(item,end=\" \")\n",
    "    \n",
    "show(100,200)\n",
    "show(\"sehwag\")\n",
    "show(10,20,30,40,50)"
   ]
  },
  {
   "cell_type": "code",
   "execution_count": null,
   "id": "26b5e862",
   "metadata": {},
   "outputs": [],
   "source": [
    "def add(*args):\n",
    "    total=0\n",
    "    for item in args:\n",
    "        total+=item\n",
    "    return total\n",
    "\n",
    "print(add())\n",
    "print(add(10,20))\n",
    "print(add(1.3,2.5,6.7))\n",
    "print(add(10,20,30,40))\n",
    "print(add(10,20,30,40,50))"
   ]
  },
  {
   "cell_type": "code",
   "execution_count": null,
   "id": "df3febd0",
   "metadata": {},
   "outputs": [],
   "source": [
    "# Note: First tuple and only then dictionary order is mandatory!\n",
    "def show(*jack,**rose):\n",
    "    print(type(jack),type(rose))\n",
    "    for item in jack:\n",
    "        print(item,end=\" \")\n",
    "    for var,values in rose.items():\n",
    "        print(var,values)\n",
    "        \n",
    "# Note: tuple cannot hold named arguments or keyword arguments but a dictionary can\n",
    "# Note: use ** to create a dictionary\n",
    "\n",
    "show(movie=\"rocky\",year=1975,actor=\"stallone\")\n",
    "show(\"rocky\",1975,actor=\"stallone\")"
   ]
  },
  {
   "cell_type": "code",
   "execution_count": null,
   "id": "1b5dec4f",
   "metadata": {},
   "outputs": [],
   "source": [
    "def add(*args,**kwargs):\n",
    "    total=0\n",
    "    for item in args:\n",
    "        total+=item\n",
    "    for var,item in kwargs.items():\n",
    "        total+=item\n",
    "    return total\n",
    "\n",
    "print(add()) # without args\n",
    "print(add(10,20)) # with 2 unnamed args\n",
    "print(add(value_1=1.3,value_2=2.5,value_3=6.7)) # 3 kwargs \n",
    "print(add(10,20,value_1=30,value_2=40)) # mix unnamed and kwargs"
   ]
  },
  {
   "cell_type": "code",
   "execution_count": null,
   "id": "2e65eb10",
   "metadata": {},
   "outputs": [],
   "source": [
    "def show(x,y,z):\n",
    "    print(x,y,z)\n",
    "    \n",
    "list1=[1,2,3]\n",
    "show(*list1) # unpacking a list using * \n",
    "set1={1,2,3}\n",
    "show(*set1) # unpacking a set using * \n",
    "tuple1=(1,2,3)\n",
    "show(*tuple1) # unpacking a tuple using * "
   ]
  },
  {
   "cell_type": "code",
   "execution_count": null,
   "id": "cf0cf785",
   "metadata": {},
   "outputs": [],
   "source": [
    "def show(x,y,z):\n",
    "    print(x,y,z)\n",
    "\n",
    "values={\"x\":10,\"y\":20,\"z\":30}\n",
    "show(**values) # dictionary unpacking using ** \n",
    "show(x=values[\"x\"],y=values[\"y\"],z=values[\"z\"])\n",
    "show(x=10,y=20,z=30)"
   ]
  },
  {
   "cell_type": "code",
   "execution_count": null,
   "id": "4e1c2dd5",
   "metadata": {},
   "outputs": [],
   "source": [
    "def add(*args): #((10,20,30))\n",
    "    total=0\n",
    "    for item in args:\n",
    "        total+=item\n",
    "    return total\n",
    "\n",
    "def compute(*args):\n",
    "    print(add(*args)) #10,20,30\n",
    "    \n",
    "#print(add(10,20,30))\n",
    "compute(10,20,30)\n",
    "print(add(10,20,30))"
   ]
  },
  {
   "cell_type": "code",
   "execution_count": null,
   "id": "4cd055ba",
   "metadata": {},
   "outputs": [],
   "source": [
    "# Note: functions can be nested in python i.e. define one function into another function!\n",
    "def outer_function(jersey,player):\n",
    "    print(\"outer function called\")\n",
    "    def inner_function():\n",
    "        print(\"inner function called\")\n",
    "        print(f\"{jersey} {player}\")\n",
    "        return jersey\n",
    "    print(inner_function())\n",
    "    print(\"outer function ends!\")\n",
    "    return player\n",
    "    \n",
    "print(outer_function(10,\"sachin\"))"
   ]
  },
  {
   "cell_type": "code",
   "execution_count": 3,
   "id": "2b64c2ea",
   "metadata": {},
   "outputs": [
    {
     "name": "stdout",
     "output_type": "stream",
     "text": [
      "inner function  virat\n",
      "sehwag\n",
      "sachin\n"
     ]
    }
   ],
   "source": [
    "player=\"sachin\" # global object\n",
    "\n",
    "def outer_function1():\n",
    "    #global player \n",
    "    player=\"sehwag\" # local object\n",
    "    def inner_function():\n",
    "        #nonlocal player\n",
    "        player=\"virat\"\n",
    "        print(\"inner function \",player) # virat\n",
    "    inner_function()\n",
    "    print(player) # sehwag\n",
    "    \n",
    "def outer_function2():\n",
    "    print(player)  \n",
    "    \n",
    "outer_function1()\n",
    "outer_function2() # sachin"
   ]
  },
  {
   "cell_type": "code",
   "execution_count": null,
   "id": "d3726ce7",
   "metadata": {},
   "outputs": [],
   "source": []
  }
 ],
 "metadata": {
  "kernelspec": {
   "display_name": "Python 3 (ipykernel)",
   "language": "python",
   "name": "python3"
  },
  "language_info": {
   "codemirror_mode": {
    "name": "ipython",
    "version": 3
   },
   "file_extension": ".py",
   "mimetype": "text/x-python",
   "name": "python",
   "nbconvert_exporter": "python",
   "pygments_lexer": "ipython3",
   "version": "3.9.7"
  }
 },
 "nbformat": 4,
 "nbformat_minor": 5
}
