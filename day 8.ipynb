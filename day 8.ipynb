{
 "cells": [
  {
   "cell_type": "code",
   "execution_count": 2,
   "id": "9bd2c39c",
   "metadata": {},
   "outputs": [
    {
     "name": "stdout",
     "output_type": "stream",
     "text": [
      "Overwriting file.txt\n"
     ]
    }
   ],
   "source": [
    "%%writefile file.txt\n",
    "this is my first text file\n",
    "I am happy to create it using notebook"
   ]
  },
  {
   "cell_type": "code",
   "execution_count": 3,
   "id": "9f37d9cc",
   "metadata": {},
   "outputs": [
    {
     "data": {
      "text/plain": [
       "'C:\\\\Users\\\\Shree'"
      ]
     },
     "execution_count": 3,
     "metadata": {},
     "output_type": "execute_result"
    }
   ],
   "source": [
    "pwd"
   ]
  },
  {
   "cell_type": "code",
   "execution_count": 62,
   "id": "f8acf3a6",
   "metadata": {},
   "outputs": [],
   "source": [
    "fp=open(\"c:\\\\Users\\\\Shree\\\\prayer.txt\",\"w\") \n",
    "if fp.writable():\n",
    "    #fp.write(\"Thank you GOD for birds thy sing\\n\")\n",
    "    #fp.write(\"Thank you GOD for food we eat\\n\")\n",
    "    #fp.write(\"Thank you GOD for world so sweet\\n\")\n",
    "    #fp.write(\"Thank you GOD for everything!\\n\")\n",
    "    collection=[\"row row your boat\\n\",\n",
    "                \"gently down the stream\\n\",\n",
    "                \"merrily merrily merrily merrily\\n\",\n",
    "                \"life is but a dream!\\n\"\n",
    "                ]\n",
    "    fp.writelines(collection)\n",
    "    fp.close()"
   ]
  },
  {
   "cell_type": "code",
   "execution_count": 48,
   "id": "fe6530b9",
   "metadata": {},
   "outputs": [
    {
     "name": "stdout",
     "output_type": "stream",
     "text": [
      "Thank you GOD for birds thy sing\n",
      "Thank you GOD for food we eat\n",
      "Thank you GOD for world so sweet\n",
      "Thank you GOD for everything!\n",
      "\n"
     ]
    }
   ],
   "source": [
    "fp=open(\"c:\\\\Users\\\\Shree\\\\prayer.txt\",\"r\") \n",
    "if fp.readable():\n",
    "    #fp.seek(10)\n",
    "    print(fp.read())\n",
    "    #print(fp.read())\n",
    "    #fp.seek(6)\n",
    "    #print(fp.read())\n",
    "    fp.close()"
   ]
  },
  {
   "cell_type": "code",
   "execution_count": 50,
   "id": "a88dbe66",
   "metadata": {},
   "outputs": [
    {
     "name": "stdout",
     "output_type": "stream",
     "text": [
      "Thank you GOD for birds thy sing\n",
      "Thank you GOD for food we eat\n",
      "Thank you GOD for world so sweet\n",
      "Thank you GOD for everything!\n",
      "\n",
      "your program continues\n"
     ]
    }
   ],
   "source": [
    "# context manager\n",
    "with open(\"c:\\\\Users\\\\Shree\\\\prayer.txt\",\"r\") as fp:\n",
    "    print(fp.read())\n",
    "print(\"your program continues\")"
   ]
  },
  {
   "cell_type": "code",
   "execution_count": 74,
   "id": "8534a1db",
   "metadata": {},
   "outputs": [
    {
     "name": "stdout",
     "output_type": "stream",
     "text": [
      "life is but a dream!\n",
      "row row your boat\n",
      "gently down the stream\n",
      "merrily merrily merrily merrily\n",
      "row row your boat\n",
      "gently down the stream\n",
      "merrily merrily merrily merrily\n",
      "life is but a dream!\n",
      "\n"
     ]
    }
   ],
   "source": [
    "with open(\"c:\\\\Users\\\\Shree\\\\prayer.txt\",\"r\") as fp:\n",
    "    #line1=fp.readline()\n",
    "    line2=fp.readline()\n",
    "    line3=fp.readline()\n",
    "    line4=fp.readline()\n",
    "    print(fp.readline().strip(\"\\n\"))\n",
    "    print(line2.strip(\"\\n\"))\n",
    "    print(line3.strip(\"\\n\"))\n",
    "    print(line4.strip(\"\\n\"))\n",
    "    fp.seek(0)\n",
    "    print(fp.read())"
   ]
  },
  {
   "cell_type": "code",
   "execution_count": 86,
   "id": "427de28f",
   "metadata": {},
   "outputs": [
    {
     "name": "stdout",
     "output_type": "stream",
     "text": [
      "Total number of lines in my text file 4\n",
      "First line in my text file is :  row row your boat\n",
      "\n",
      "Last line of my text file is :  life is but a dream!\n",
      "\n",
      "Reversed contents of the text file is \n",
      "life is but a dream!\n",
      "merrily merrily merrily merrily\n",
      "gently down the stream\n",
      "row row your boat\n"
     ]
    }
   ],
   "source": [
    "with open(\"c:\\\\Users\\\\Shree\\\\prayer.txt\",\"r\") as fp:\n",
    "    collection=fp.readlines()\n",
    "    print(\"Total number of lines in my text file\",len(collection))\n",
    "    print(\"First line in my text file is : \",collection[0])\n",
    "    print(\"Last line of my text file is : \",collection[-1])\n",
    "    print(\"Reversed contents of the text file is \")\n",
    "    for every_row in collection[::-1]:\n",
    "        print(every_row.strip(\"\\n\"))\n",
    "with open(\"c:\\\\Users\\\\Shree\\\\prayerreversed.txt\",\"w\") as fs:\n",
    "    for every_row in collection[::-1]:\n",
    "        fs.write(every_row)"
   ]
  },
  {
   "cell_type": "code",
   "execution_count": 90,
   "id": "c2640f26",
   "metadata": {},
   "outputs": [
    {
     "name": "stdout",
     "output_type": "stream",
     "text": [
      "Enter the file name to be copied :devadatta\n",
      "Enter the name of the file to be duplicated deva\n",
      "[Errno 2] No such file or directory: 'devadatta'\n"
     ]
    }
   ],
   "source": [
    "source=input(\"Enter the file name to be copied :\")\n",
    "destination=input(\"Enter the name of the file to be duplicated \")\n",
    "\n",
    "try:\n",
    "    with open(source,\"r\") as fs:\n",
    "        contents=fs.read()\n",
    "        print(\"Contents are\",contents)\n",
    "    with open(destination,\"w\") as ft:\n",
    "        ft.write(contents)\n",
    "except FileNotFoundError as message:\n",
    "    print(message)"
   ]
  },
  {
   "cell_type": "code",
   "execution_count": 116,
   "id": "79d06212",
   "metadata": {
    "scrolled": true
   },
   "outputs": [
    {
     "name": "stdout",
     "output_type": "stream",
     "text": [
      "['sachin', 'india', '100', '78.67']\n",
      "['sehwag', 'india', '200', '90.67']\n",
      "['virat', 'india', '99', '87.67']\n"
     ]
    }
   ],
   "source": [
    "with open(\"data.csv\",\"r\") as fp:\n",
    "    for everyrow in fp.readlines():\n",
    "        data=everyrow.strip(\"\\n\").split(\",\")\n",
    "        print(data)\n",
    "        #print(data[0],data[1],data[2],data[3])"
   ]
  },
  {
   "cell_type": "code",
   "execution_count": 128,
   "id": "94aad2c8",
   "metadata": {},
   "outputs": [
    {
     "name": "stdout",
     "output_type": "stream",
     "text": [
      "[['sachin', 'india', '100', '78.67'], ['sehwag', 'india', '200', '90.67'], ['virat', 'india', '99', '87.67']]\n",
      "First record in my csv file is  ['sachin', 'india', '100', '78.67']\n",
      "Second record  3rd value is my csv file is  200\n",
      "['sachin', 'india', '100', '78.67']\n"
     ]
    }
   ],
   "source": [
    "import csv\n",
    "\n",
    "with open(\"data.csv\",\"r\",encoding=\"utf-8\") as fp:\n",
    "    data=csv.reader(fp,delimiter=\":\")\n",
    "    mydata=list(data)\n",
    "    print(mydata)\n",
    "    print(\"First record in my csv file is \",mydata[0])\n",
    "    print(\"Second record  3rd value is my csv file is \",mydata[1][2])\n",
    "    fp.seek(0)\n",
    "    for everyrow in data:\n",
    "        print(everyrow)\n",
    "    #print(next(data))"
   ]
  },
  {
   "cell_type": "code",
   "execution_count": 136,
   "id": "0e9fc212",
   "metadata": {},
   "outputs": [],
   "source": [
    "import csv\n",
    "\n",
    "with open(\"players.csv\",\"w\",newline=\"\") as fp:\n",
    "    data=csv.writer(fp,delimiter=\",\")\n",
    "    #data.writerow([10,\"sachin\",\"india\"])\n",
    "    #data.writerow([20,\"sehwag\",\"india\"])\n",
    "    #data.writerow([30,\"ricky\",\"australia\"])\n",
    "    #data.writerow([40,\"wasim\",\"pakistan\"])\n",
    "    collection=[[10,\"deva\"],[20,\"nisha\"],[30,\"deena\"],[40,\"hina\"]]\n",
    "    data.writerows(collection)"
   ]
  },
  {
   "cell_type": "code",
   "execution_count": 144,
   "id": "eacd4d0b",
   "metadata": {},
   "outputs": [
    {
     "name": "stdout",
     "output_type": "stream",
     "text": [
      "vin : <empty>\n",
      "make : <empty>\n",
      "model : <empty>\n",
      "year : 0\n",
      "range : 0\n",
      "topSpeed : 0\n",
      "zeroSixty : 0.0\n",
      "mileage : 0\n",
      "Column names are: vin, make, model, year, range, topSpeed, zeroSixty, mileage\n",
      "vin: TMX20122 make: AnyCompany Motors, model:  Coupe, year:  2012, range:  335, topSpeed:  155, zeroSixty:  4.1, mileage:  50000\n",
      "vin: TM320163 make: AnyCompany Motors, model:  Sedan, year:  2016, range:  240, topSpeed:  140, zeroSixty:  5.2, mileage:  20000\n",
      "vin: TMX20121 make: AnyCompany Motors, model:  SUV, year:  2012, range:  295, topSpeed:  155, zeroSixty:  4.7, mileage:  100000\n",
      "vin: TMX20204 make: AnyCompany Motors, model:  Truck, year:  2020, range:  300, topSpeed:  155, zeroSixty:  3.5, mileage:  0\n",
      "Processed 5 lines.\n",
      "vin : TMX20122\n",
      "-----\n",
      "make : AnyCompany Motors\n",
      "-----\n",
      "model :  Coupe\n",
      "-----\n",
      "year :  2012\n",
      "-----\n",
      "range :  335\n",
      "-----\n",
      "topSpeed :  155\n",
      "-----\n",
      "zeroSixty :  4.1\n",
      "-----\n",
      "mileage :  50000\n",
      "-----\n",
      "vin : TM320163\n",
      "-----\n",
      "make : AnyCompany Motors\n",
      "-----\n",
      "model :  Sedan\n",
      "-----\n",
      "year :  2016\n",
      "-----\n",
      "range :  240\n",
      "-----\n",
      "topSpeed :  140\n",
      "-----\n",
      "zeroSixty :  5.2\n",
      "-----\n",
      "mileage :  20000\n",
      "-----\n",
      "vin : TMX20121\n",
      "-----\n",
      "make : AnyCompany Motors\n",
      "-----\n",
      "model :  SUV\n",
      "-----\n",
      "year :  2012\n",
      "-----\n",
      "range :  295\n",
      "-----\n",
      "topSpeed :  155\n",
      "-----\n",
      "zeroSixty :  4.7\n",
      "-----\n",
      "mileage :  100000\n",
      "-----\n",
      "vin : TMX20204\n",
      "-----\n",
      "make : AnyCompany Motors\n",
      "-----\n",
      "model :  Truck\n",
      "-----\n",
      "year :  2020\n",
      "-----\n",
      "range :  300\n",
      "-----\n",
      "topSpeed :  155\n",
      "-----\n",
      "zeroSixty :  3.5\n",
      "-----\n",
      "mileage :  0\n",
      "-----\n"
     ]
    }
   ],
   "source": [
    "import csv\n",
    "import copy\n",
    "\n",
    "myVehicle = {\n",
    "    \"vin\" : \"<empty>\",\n",
    "    \"make\" : \"<empty>\" ,\n",
    "    \"model\" : \"<empty>\" ,\n",
    "    \"year\" : 0,\n",
    "    \"range\" : 0,\n",
    "    \"topSpeed\" : 0,\n",
    "    \"zeroSixty\" : 0.0,\n",
    "    \"mileage\" : 0\n",
    "}\n",
    "for key, value in myVehicle.items():\n",
    "    print(\"{} : {}\".format(key,value))\n",
    "    \n",
    "myInventoryList = []\n",
    "\n",
    "with open('car_fleet.csv') as csvFile:\n",
    "    csvReader = csv.reader(csvFile, delimiter=',')  \n",
    "    lineCount = 0  \n",
    "    for row in csvReader:\n",
    "        if lineCount == 0:\n",
    "            print(f'Column names are: {\", \".join(row)}')  \n",
    "            lineCount += 1  \n",
    "        else:  \n",
    "            print(f'vin: {row[0]} make: {row[1]}, model: {row[2]}, year: {row[3]}, range: {row[4]}, topSpeed: {row[5]}, zeroSixty: {row[6]}, mileage: {row[7]}')  \n",
    "            currentVehicle = copy.deepcopy(myVehicle)  \n",
    "            currentVehicle[\"vin\"] = row[0]  \n",
    "            currentVehicle[\"make\"] = row[1]  \n",
    "            currentVehicle[\"model\"] = row[2]  \n",
    "            currentVehicle[\"year\"] = row[3]  \n",
    "            currentVehicle[\"range\"] = row[4]  \n",
    "            currentVehicle[\"topSpeed\"] = row[5]  \n",
    "            currentVehicle[\"zeroSixty\"] = row[6]  \n",
    "            currentVehicle[\"mileage\"] = row[7]  \n",
    "            myInventoryList.append(currentVehicle)  \n",
    "            lineCount += 1  \n",
    "    print(f'Processed {lineCount} lines.')\n",
    "    \n",
    "for myCarProperties in myInventoryList:\n",
    "    for key, value in myCarProperties.items():\n",
    "        print(\"{} : {}\".format(key,value))\n",
    "        print(\"-----\")"
   ]
  },
  {
   "cell_type": "code",
   "execution_count": 154,
   "id": "adc09482",
   "metadata": {},
   "outputs": [
    {
     "name": "stdout",
     "output_type": "stream",
     "text": [
      "fvnqhlcgshlvealylvcgergffytpktgiveqcctsicslyqlenycn\n",
      "The sequence of human preproinsulin:\n",
      "malwmrllpllallalwgpdpaaafvnqhlcgshlvealylvcgergffytpktrreaedlqvgqvelgggpgagslqplalegslqkrgiveqcctsicslyqlenycn\n",
      "The sequence of human insulin, chain a: giveqcctsicslyqlenycn\n",
      "The sequence of human insulin, chain a: giveqcctsicslyqlenycn\n",
      "The rough molecular weight of insulin: 6696.420000000001\n",
      "Error percentage: 15.30383306099047\n"
     ]
    }
   ],
   "source": [
    "#Python version (python3.6)\n",
    "#coding: utf-8\n",
    "# Store the human preproinsulin sequence in a variable called preproinsulin:\n",
    "preproInsulin =\"malwmrllpllallalwgpdpaaafvnqhlcgshlvealylvcgergffytpktr\" \\\n",
    "\"reaedlqvgqvelgggpgagslqplalegslqkrgiveqcctsicslyqlenycn\"\n",
    "\n",
    "lsInsulin=\"malwmrllpllallalwgpdpaaa\"\n",
    "bInsulin=\"fvnqhlcgshlvealylvcgergffytpkt\"\n",
    "aInsulin=\"giveqcctsicslyqlenycn\"\n",
    "cInsulin=\"rreaedlqvgqvelgggpgagslqplalegslqkr\"\n",
    "insulin = bInsulin + aInsulin\n",
    "print(insulin)\n",
    "# Printing \"the sequence of human insulin\" to console using successive print() commands:\n",
    "print(\"The sequence of human preproinsulin:\")\n",
    "print(preproInsulin)\n",
    "# Printing to console using concatenated strings inside the print function (one-liner):print(\"The sequence of human insulin, chain a: \" + aInsulin)\n",
    "print(\"The sequence of human insulin, chain a: \" + aInsulin)\n",
    "print(\"The sequence of human insulin, chain a:\", aInsulin)\n",
    "\n",
    "# Calculating the molecular weight of insulin  \n",
    "# Creating a list of the amino acid (AA) weights  \n",
    "aaWeights = {'A': 89.09, 'C': 121.16, 'D': 133.10, 'E': 147.13, 'F': 165.19,\n",
    "'G': 75.07, 'H': 155.16, 'I': 131.17, 'K': 146.19, 'L': 131.17, 'M': 149.21,\n",
    "'N': 132.12, 'P': 115.13, 'Q': 146.15, 'R': 174.20, 'S': 105.09, 'T': 119.12,\n",
    "'V': 117.15, 'W': 204.23, 'Y': 181.19}  \n",
    "\n",
    "# Count the number of each amino acids  \n",
    "aaCountInsulin = ({x: float(insulin.upper().count(x)) for x in ['A', 'C',\n",
    "'D', 'E', 'F', 'G', 'H', 'I', 'K', 'L', 'M', 'N', 'P', 'Q', 'R', 'S', 'T',\n",
    "'V', 'W', 'Y']})  \n",
    "\n",
    "# Multiply the count by the weights  \n",
    "molecularWeightInsulin = sum({x: (aaCountInsulin[x]*aaWeights[x]) for x in\n",
    "['A', 'C', 'D', 'E', 'F', 'G', 'H', 'I', 'K', 'L', 'M', 'N', 'P', 'Q', 'R',\n",
    "'S', 'T', 'V', 'W', 'Y']}.values())  \n",
    "print(\"The rough molecular weight of insulin: \" +\n",
    "str(molecularWeightInsulin))\n",
    "\n",
    "molecularWeightInsulinActual = 5807.63\n",
    "print(\"Error percentage: \" + str(((molecularWeightInsulin - molecularWeightInsulinActual)/molecularWeightInsulinActual)*100))"
   ]
  },
  {
   "cell_type": "code",
   "execution_count": 152,
   "id": "c31438e0",
   "metadata": {},
   "outputs": [
    {
     "name": "stdout",
     "output_type": "stream",
     "text": [
      "60\n"
     ]
    }
   ],
   "source": []
  },
  {
   "cell_type": "code",
   "execution_count": null,
   "id": "86761f2a",
   "metadata": {},
   "outputs": [],
   "source": []
  }
 ],
 "metadata": {
  "kernelspec": {
   "display_name": "Python 3 (ipykernel)",
   "language": "python",
   "name": "python3"
  },
  "language_info": {
   "codemirror_mode": {
    "name": "ipython",
    "version": 3
   },
   "file_extension": ".py",
   "mimetype": "text/x-python",
   "name": "python",
   "nbconvert_exporter": "python",
   "pygments_lexer": "ipython3",
   "version": "3.9.7"
  }
 },
 "nbformat": 4,
 "nbformat_minor": 5
}
