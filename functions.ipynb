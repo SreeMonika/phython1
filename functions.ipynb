{
 "cells": [
  {
   "cell_type": "code",
   "execution_count": null,
   "id": "b9e38861",
   "metadata": {},
   "outputs": [],
   "source": [
    "# This is a function which does not take any arguments and returns None\n",
    "def myfunction(): # function definition\n",
    "    print(\"myfunction called\")\n",
    "    print(\"I am happy to create first userdefined in python\")\n",
    "    # by default every function in python returns None\n",
    "\n",
    "print(myfunction()) # function call\n",
    "ref=myfunction()\n",
    "print(ref)"
   ]
  },
  {
   "cell_type": "code",
   "execution_count": null,
   "id": "0b731b9d",
   "metadata": {},
   "outputs": [],
   "source": [
    "# Here add takes 2 arguments and returns a single value\n",
    "def add(x,y):# x and y are called as parameters\n",
    "    return x+y\n",
    "\n",
    "print(add(10,20)) # unnamed arguments \n",
    "print(add(3.4,4.5)) # unnamed arguments\n",
    "print(add(\"sachin\",\"sehwag\")) # unnamed arguments\n",
    "print(add(10+5j,15-2j)) # unnamed arguments"
   ]
  },
  {
   "cell_type": "code",
   "execution_count": null,
   "id": "3bf1700d",
   "metadata": {},
   "outputs": [],
   "source": [
    "def show():\n",
    "    return 10,\"sachin\",75.45\n",
    "\n",
    "for values in show():\n",
    "    print(values)\n",
    "jersey,player,average=show()\n",
    "print(jersey,player,average)\n",
    "mycollection=show()\n",
    "print(mycollection[0],mycollection[1],mycollection[2])"
   ]
  },
  {
   "cell_type": "code",
   "execution_count": null,
   "id": "cf4788c6",
   "metadata": {},
   "outputs": [],
   "source": [
    "participants=[\n",
    "                {\"name\":\"anagha\",\"marks\":[80,90,100]},\n",
    "                {\"name\":\"banu priya\",\"marks\":[90,100]},\n",
    "                {\"name\":\"bala kishore\",\"marks\":[80,90,100,80,93]}\n",
    "        ]\n",
    "\n",
    "def average(marks):\n",
    "    return sum(marks)/len(marks)\n",
    "\n",
    "for every_participant in participants:\n",
    "    print(average(every_participant[\"marks\"]))"
   ]
  },
  {
   "cell_type": "code",
   "execution_count": null,
   "id": "493fe176",
   "metadata": {},
   "outputs": [],
   "source": [
    "# Default arguments are when not all arguments needs to be passed during function call\n",
    "# Note: only trailing arguments can be defaulted\n",
    "# Note: default arguments are given in function definition and not in function call\n",
    "def add(x,y=0):\n",
    "    return x+y\n",
    "\n",
    "print(add(10))\n",
    "print(add(10,20))"
   ]
  },
  {
   "cell_type": "code",
   "execution_count": null,
   "id": "4f000aed",
   "metadata": {},
   "outputs": [],
   "source": [
    "def show(movie=\"gladiator\",actor=\"russel crowe\",year=2000): # Note: default args\n",
    "    print(f\"{actor} acts in {movie} movie released in {year}\")\n",
    "\n",
    "show(\"rocky\",\"stallone\",1975) # unnamed args\n",
    "show(actor=\"russel crowe\",year=2000,movie=\"beautiful mind\")\n",
    "show(movie=\"phenomenon\",actor=\"john travolta\",year=1995) # keyword arguments / named arguments\n",
    "show(\"topgun\",actor=\"tom cruise\",year=1980) # mix of both unnamed/kwargs\n",
    "# Note: unamed first and then keyword arguments order is mandatory!"
   ]
  },
  {
   "cell_type": "code",
   "execution_count": null,
   "id": "8c9a2af4",
   "metadata": {},
   "outputs": [],
   "source": [
    "# Note: use ** to create a dictionary which can hold kwargs number of arguments\n",
    "# Note: use * to create tuple which can hold unnamed args\n",
    "# Note: use tuple first i.e * and then a dictionary ** order is mandatory!\n",
    "def show(*args,**kwargs):\n",
    "    #print(type(args))\n",
    "    #print(args[0])\n",
    "    for item in args:\n",
    "        print(item)\n",
    "    for var,movie in kwargs.items():\n",
    "        print(movie)\n",
    "\n",
    "show(movie1=\"rocky\",movie2=\"lord of the rings\",movie3=\"braveheart\",movie4=\"mad max\")\n",
    "show(10,20)\n",
    "show(10,player=\"sachin\",average=67.54)"
   ]
  },
  {
   "cell_type": "code",
   "execution_count": null,
   "id": "6b3c0816",
   "metadata": {},
   "outputs": [],
   "source": [
    "# Here add takes 2 arguments and returns a single value\n",
    "def add(*args,**kwargs):\n",
    "    total=0\n",
    "    for val in args:\n",
    "        total+=val\n",
    "    for var,val in kwargs.items():\n",
    "        total+=val\n",
    "    return total\n",
    "\n",
    "print(add(var1=10,var2=20,var3=30,var4=40,var5=50)) # unnamed arguments \n",
    "print(add(3.4,4.5,5.6)) # unnamed arguments\n",
    "print(add()) # unnamed arguments\n",
    "print(add(10,20,var3=30)) # mix of unnamed as well as keyword args"
   ]
  },
  {
   "cell_type": "code",
   "execution_count": null,
   "id": "ba839779",
   "metadata": {},
   "outputs": [],
   "source": [
    "def show(x,y,z):\n",
    "    print(x,y,z)\n",
    "    \n",
    "list1=[[10,20,30]]\n",
    "for item in list1:\n",
    "    show(*item) # 10,20,30"
   ]
  },
  {
   "cell_type": "code",
   "execution_count": null,
   "id": "08e33185",
   "metadata": {},
   "outputs": [],
   "source": [
    "players={\"x\":10,\"y\":99}\n",
    "\n",
    "def show(x,y):\n",
    "    print(x,y)\n",
    "    \n",
    "show(**players) # unpacking a dictionary\n",
    "show(x=players[\"x\"],y=players[\"y\"])\n",
    "show(x=10,y=99)"
   ]
  },
  {
   "cell_type": "code",
   "execution_count": null,
   "id": "eeb90fb3",
   "metadata": {},
   "outputs": [],
   "source": [
    "def add(*args): # (1,2,3,4,5)\n",
    "    total=0\n",
    "    for val in args:\n",
    "        total+=val\n",
    "    return total\n",
    "\n",
    "def function(*args): # (1,2,3,4,5)\n",
    "    print(add(*args)) # 1,2,3,4,5\n",
    "    \n",
    "#print(add(1,2,3,4,5))\n",
    "function(1,2,3,4,5) # 1,2,3,4,5\n",
    "print(add(1,2,3))"
   ]
  },
  {
   "cell_type": "code",
   "execution_count": null,
   "id": "9e25e0ac",
   "metadata": {},
   "outputs": [],
   "source": [
    "# you can nest functions in python \n",
    "def outer_function(jersey,player):\n",
    "    print(\"outer function starts\")\n",
    "    def inner_function():\n",
    "        print(\"inner function\")\n",
    "        return jersey\n",
    "    print(inner_function()) # call to inner function\n",
    "    print(\"outer function ends\")\n",
    "    return player\n",
    "\n",
    "print(outer_function(10,\"sachin\"))"
   ]
  },
  {
   "cell_type": "code",
   "execution_count": null,
   "id": "00c02db7",
   "metadata": {},
   "outputs": [],
   "source": [
    "player=\"sachin\" # global object scope is for entire file\n",
    "\n",
    "def outer_function1():\n",
    "    #global player # use the object from global scope\n",
    "    player=\"sehwag\" \n",
    "    def inner_function():\n",
    "        nonlocal player\n",
    "        #global player\n",
    "        player=\"rohit\"\n",
    "        print(\"inner function\",player)\n",
    "    inner_function()\n",
    "    print(\"outer_function1\",player) # global object\n",
    "\n",
    "def outer_function2():\n",
    "    print(player) # global object\n",
    "\n",
    "outer_function1()\n",
    "outer_function2()"
   ]
  },
  {
   "cell_type": "code",
   "execution_count": null,
   "id": "563cd23b",
   "metadata": {},
   "outputs": [],
   "source": [
    "def foo():\n",
    "    print(\"foo called\")\n",
    "# Note: Name of the function is itself the base address of the function\n",
    "print(foo) \n",
    "\n",
    "ref=foo\n",
    "ref()"
   ]
  },
  {
   "cell_type": "code",
   "execution_count": null,
   "id": "8b13caf1",
   "metadata": {},
   "outputs": [],
   "source": [
    "def foo(ref): # ref is collecting address of bar\n",
    "    print(\"foo called\")\n",
    "    ref() # call bar function\n",
    "    \n",
    "def bar():\n",
    "    print(\"bar called\")\n",
    "    \n",
    "foo(bar) # pass address of bar"
   ]
  },
  {
   "cell_type": "code",
   "execution_count": null,
   "id": "e2e708c2",
   "metadata": {},
   "outputs": [],
   "source": [
    "def add(x,y):\n",
    "    return x+y\n",
    "\n",
    "ref=add\n",
    "print(ref(100,200))"
   ]
  },
  {
   "cell_type": "code",
   "execution_count": null,
   "id": "6e8e88af",
   "metadata": {},
   "outputs": [],
   "source": [
    "def validate_user(username,password):\n",
    "    print(username,password)\n",
    "\n",
    "def monkey_patching(p1,p2):\n",
    "    print(\"you are fooled by a monkey!\")\n",
    "    \n",
    "validate_user(\"devadatta\",\"redhat\")\n",
    "validate_user=monkey_patching\n",
    "validate_user(\"devadatta\",\"redhat\")"
   ]
  },
  {
   "cell_type": "code",
   "execution_count": null,
   "id": "e43e4049",
   "metadata": {},
   "outputs": [],
   "source": [
    "def foo():\n",
    "    print(\"foo called\")\n",
    "    \n",
    "ref=foo\n",
    "newref=ref\n",
    "print(newref,ref)\n",
    "newref()\n",
    "ref()\n",
    "foo()"
   ]
  },
  {
   "cell_type": "code",
   "execution_count": 7,
   "id": "91dde281",
   "metadata": {},
   "outputs": [
    {
     "name": "stdout",
     "output_type": "stream",
     "text": [
      "This is a decorated function\n",
      "This is a function\n"
     ]
    }
   ],
   "source": [
    "def decorator(funpointer):# collect the address of function\n",
    "    def newfunction():\n",
    "        print(\"This is a decorated function\")\n",
    "        funpointer() # call function from inner function\n",
    "    return newfunction # return the address of inner function\n",
    "\n",
    "@decorator\n",
    "def function():\n",
    "    print(\"This is a function\")\n",
    "    \n",
    "# Decorator will always take function pointer (address of the function) to be decorator\n",
    "# Decorator will always return address of another function (i.e additional functionality)\n",
    "#function()\n",
    "#function=decorator(function) # pass the address of function to be decorator\n",
    "function() "
   ]
  },
  {
   "cell_type": "code",
   "execution_count": 18,
   "id": "be656b5b",
   "metadata": {},
   "outputs": [
    {
     "name": "stdout",
     "output_type": "stream",
     "text": [
      "3.3333333333333335\n",
      "Cannot divide by zero\n"
     ]
    }
   ],
   "source": [
    "def divide_decorator(func):\n",
    "    def custom_divide(var1,var2):\n",
    "        if var2==0:\n",
    "            print(\"Cannot divide by zero\")\n",
    "            return \n",
    "        return func(var1,var2) # call divide function directly\n",
    "    return custom_divide\n",
    "\n",
    "@divide_decorator\n",
    "def divide(x,y):\n",
    "    return x/y\n",
    "\n",
    "#divide=divide_decorator(divide)\n",
    "print(divide(10,3))\n",
    "divide(10,0)"
   ]
  },
  {
   "cell_type": "code",
   "execution_count": null,
   "id": "5985301a",
   "metadata": {},
   "outputs": [],
   "source": []
  }
 ],
 "metadata": {
  "kernelspec": {
   "display_name": "Python 3 (ipykernel)",
   "language": "python",
   "name": "python3"
  },
  "language_info": {
   "codemirror_mode": {
    "name": "ipython",
    "version": 3
   },
   "file_extension": ".py",
   "mimetype": "text/x-python",
   "name": "python",
   "nbconvert_exporter": "python",
   "pygments_lexer": "ipython3",
   "version": "3.9.7"
  }
 },
 "nbformat": 4,
 "nbformat_minor": 5
}
