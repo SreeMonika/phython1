{
 "cells": [
  {
   "cell_type": "code",
   "execution_count": null,
   "id": "dfc087dc",
   "metadata": {},
   "outputs": [],
   "source": [
    "myMixedTypeList = [45, 290578, 1.02, True, \"My dog is on the bed.\", \"45\"]\n",
    "for item in myMixedTypeList:\n",
    "    print(\"{} is of the data type {}\".format(item,type(item)))"
   ]
  },
  {
   "cell_type": "code",
   "execution_count": null,
   "id": "13608ce1",
   "metadata": {},
   "outputs": [],
   "source": [
    "import csv\n",
    "import copy\n",
    "\n",
    "myVehicle = {\n",
    "    \"vin\" : \"<empty>\",\n",
    "    \"make\" : \"<empty>\" ,\n",
    "    \"model\" : \"<empty>\" ,\n",
    "    \"year\" : 0,\n",
    "    \"range\" : 0,\n",
    "    \"topSpeed\" : 0,\n",
    "    \"zeroSixty\" : 0.0,\n",
    "    \"mileage\" : 0\n",
    "}\n",
    "\n",
    "for key, value in myVehicle.items():\n",
    "    print(\"{} : {}\".format(key,value))\n",
    "    \n",
    "myInventoryList = []\n",
    "\n",
    "with open('car_fleet.csv') as csvFile:\n",
    "    csvReader = csv.reader(csvFile, delimiter=',')  \n",
    "    lineCount = 0  \n",
    "    for row in csvReader:\n",
    "        if lineCount == 0:\n",
    "            print(f'Column names are: {\", \".join(row)}')  \n",
    "            lineCount += 1  \n",
    "        else:  \n",
    "            print(f'vin: {row[0]} make: {row[1]}, model: {row[2]}, year: {row[3]}, range: {row[4]}, topSpeed: {row[5]}, zeroSixty: {row[6]}, mileage: {row[7]}')  \n",
    "            currentVehicle = copy.deepcopy(myVehicle)  \n",
    "            currentVehicle[\"vin\"] = row[0]  \n",
    "            currentVehicle[\"make\"] = row[1]  \n",
    "            currentVehicle[\"model\"] = row[2]  \n",
    "            currentVehicle[\"year\"] = row[3]  \n",
    "            currentVehicle[\"range\"] = row[4]  \n",
    "            currentVehicle[\"topSpeed\"] = row[5]  \n",
    "            currentVehicle[\"zeroSixty\"] = row[6]  \n",
    "            currentVehicle[\"mileage\"] = row[7]  \n",
    "            myInventoryList.append(currentVehicle)  \n",
    "            lineCount += 1  \n",
    "    print(f'Processed {lineCount} lines.')\n",
    "    \n",
    "for myCarProperties in myInventoryList:\n",
    "    for key, value in myCarProperties.items():\n",
    "        print(\"{} : {}\".format(key,value))\n",
    "        print(\"-----\")"
   ]
  },
  {
   "cell_type": "code",
   "execution_count": null,
   "id": "7a300c6d",
   "metadata": {},
   "outputs": [],
   "source": [
    "valid_response=['yes','YES','Yes']\n",
    "\n",
    "userReply = input(\"Do you need to ship a package? (Enter yes or no) \")\n",
    "if userReply in valid_response:\n",
    "    print(\"We can help you ship that package!\")\n",
    "else:\n",
    "    print(\"Please come back when you need to ship a package. Thank you.\")"
   ]
  },
  {
   "cell_type": "code",
   "execution_count": null,
   "id": "7b2a5511",
   "metadata": {},
   "outputs": [],
   "source": [
    "userReply = input(\"Would you like to buy stamps, buy an envelope, or make a copy? (Enter stamps, envelope, or copy) \")\n",
    "if userReply == \"stamps\":\n",
    "    print(\"We have many stamp designs to choose from.\")\n",
    "elif userReply == \"envelope\":\n",
    "    print(\"We have many envelope sizes to choose from.\")\n",
    "elif userReply == \"copy\":\n",
    "    copies = input(\"How many copies would you like? (Enter a number) \")\n",
    "    print(\"Here are {} copies.\".format(copies))\n",
    "else:\n",
    "    print(\"Thank you, please come again.\")"
   ]
  },
  {
   "cell_type": "code",
   "execution_count": null,
   "id": "b51199fc",
   "metadata": {},
   "outputs": [],
   "source": [
    "import random\n",
    "\n",
    "print(\"Welcome to Guess the Number!\")\n",
    "print(\"The rules are simple. I will think of a number, and you will try to guess it.\")\n",
    "number = random.randint(1,10)\n",
    "isGuessRight = False\n",
    "while isGuessRight != True:\n",
    "    guess = input(\"Guess a number between 1 and 10: \")\n",
    "    if int(guess) == number:\n",
    "        print(\"You guessed {}. That is correct! You win!\".format(guess))\n",
    "        isGuessRight = True\n",
    "    else:\n",
    "        print(\"You guessed {}. Sorry, that isn’t it. Try again.\".format(guess))"
   ]
  },
  {
   "cell_type": "code",
   "execution_count": null,
   "id": "f2153b01",
   "metadata": {},
   "outputs": [],
   "source": [
    "for x in range (0, 11):\n",
    "    print(x)"
   ]
  },
  {
   "cell_type": "code",
   "execution_count": 1,
   "id": "cd65af74",
   "metadata": {},
   "outputs": [
    {
     "name": "stdout",
     "output_type": "stream",
     "text": [
      "[0, 1, 2, 3, 4, 5, 6, 7, 8, 9, 10, 11, 12, 13, 14, 15, 16, 17, 18, 19, 20]\n",
      "[0, 1, 2, 3, 4]\n",
      "[0, 0, 0, 0, 0]\n",
      "[0, 1, 4, 9, 16]\n",
      "[0, 1, 8, 27, 64]\n",
      "[0, 2, 4, 6, 8, 10, 12, 14, 16, 18, 20]\n"
     ]
    }
   ],
   "source": [
    "# comprehensions offer simplified syntax to create new collections based on existing collections\n",
    "# list / set / dict / There is no tuple comprehensions that syntax is reserved to create generator!\n",
    "\n",
    "list1=[]\n",
    "for item in range(21):\n",
    "    if item%2==0:\n",
    "        list1.append(item)\n",
    "print(list1)\n",
    "\n",
    "list1=[item for item in range(21)]\n",
    "print(list1)\n",
    "list1=[0 for item in range(5)]\n",
    "print(list1)\n",
    "list1=[item*item for item in range(5)]\n",
    "print(list1)\n",
    "list1=[item*item*item for item in range(5)]\n",
    "print(list1)\n",
    "list1=[item for item in range(21) if item%2==0 ] # conditional compherension\n",
    "print(list1)"
   ]
  },
  {
   "cell_type": "code",
   "execution_count": 3,
   "id": "c9811032",
   "metadata": {},
   "outputs": [
    {
     "name": "stdout",
     "output_type": "stream",
     "text": [
      "['VIRAT', 'ROHIT', 'NATRAJAN', 'BUMRAH']\n"
     ]
    }
   ],
   "source": [
    "players=[\"Virat\",\"Rohit\",\"Natrajan\",\"bumrah\"]\n",
    "players_upper=[player.upper() for player in players]\n",
    "print(players_upper)"
   ]
  },
  {
   "cell_type": "code",
   "execution_count": 6,
   "id": "1bc62734",
   "metadata": {},
   "outputs": [
    {
     "name": "stdout",
     "output_type": "stream",
     "text": [
      "{0, 2, 4, 6, 8, 10, 12, 14, 16, 18, 20}\n",
      "{0, 2, 4, 6, 8, 10, 12, 14, 16, 18, 20}\n",
      "[0, 2, 4, 6, 8, 10, 12, 14, 16, 18, 20]\n"
     ]
    }
   ],
   "source": [
    "set1={item for item in range(21) if item%2==0} # set compherension\n",
    "print(set1)\n",
    "set1=set([item for item in range(21) if item%2==0]) # set compherension\n",
    "print(set1)\n",
    "list1=list({item for item in range(21) if item%2==0})\n",
    "print(list1)"
   ]
  },
  {
   "cell_type": "code",
   "execution_count": 9,
   "id": "292340d6",
   "metadata": {},
   "outputs": [
    {
     "name": "stdout",
     "output_type": "stream",
     "text": [
      "['dinesh k', 'virat']\n",
      "{'dinesh k', 'virat'}\n"
     ]
    }
   ],
   "source": [
    "indian_players={\"virat\",\"rohit\",\"bumrah\",\"dinesh k\"}\n",
    "\n",
    "bangalore_players={\"virat\",\"dinesh k\",\"du plessis\",\"maxwell\"}\n",
    "\n",
    "playing_india=[player for player in bangalore_players if player in indian_players]\n",
    "#for player in bangalore_players:\n",
    "    #if player in indian_players:\n",
    "        #playing_india.append(player)\n",
    "\n",
    "print(playing_india)\n",
    "\n",
    "#playing_india=[player for player in bangalore_players if player in indian_players ]\n",
    "#print(playing_india)\n",
    "print(indian_players.intersection(bangalore_players))"
   ]
  },
  {
   "cell_type": "code",
   "execution_count": 11,
   "id": "426d1aa7",
   "metadata": {},
   "outputs": [
    {
     "name": "stdout",
     "output_type": "stream",
     "text": [
      "Enter your location : warje\n",
      "There are no restaurants nearby your location\n"
     ]
    }
   ],
   "source": [
    "restaurants=[\n",
    "                {\"name\":\"Barometer\",\"address\":\"kothrud\"},\n",
    "                {\"name\":\"ABC farms\",\"address\":\"kalyaninagar\"},\n",
    "                {\"name\":\"barbeque\",\"address\":\"deccan\"},\n",
    "                {\"name\":\"Good Luck\",\"address\":\"deccan\"},\n",
    "                {\"name\":\"Prithvi\",\"address\":\"kothrud\"}\n",
    "            ]\n",
    "your_location=input(\"Enter your location : \")\n",
    "\n",
    "resto_nearby=[resto[\"name\"] for resto in restaurants if resto[\"address\"]==your_location ]\n",
    "\"\"\"\n",
    "resto_nearby=[]\n",
    "for resto in restaurants:\n",
    "    if resto[\"address\"] == your_location:\n",
    "        resto_nearby.append(resto[\"name\"])\n",
    "\"\"\"\n",
    "if any(resto_nearby):\n",
    "    print(resto_nearby)\n",
    "else:\n",
    "    print(\"There are no restaurants nearby your location\")"
   ]
  },
  {
   "cell_type": "code",
   "execution_count": 20,
   "id": "9de8ab49",
   "metadata": {},
   "outputs": [
    {
     "name": "stdout",
     "output_type": "stream",
     "text": [
      "{10: 'sachin', 18: 'virat', 7: 'dhoni', 99: 'sehwag', 45: 'rohit'}\n"
     ]
    }
   ],
   "source": [
    "cricketers=[\"sachin\",\"virat\",\"dhoni\",\"sehwag\",\"rohit\"]\n",
    "jersey=[10,18,7,99,45]\n",
    "\n",
    "#dictionary comprehension\n",
    "#my_dream11={jersey[item]:cricketers[item] for item in range(len(cricketers))}\n",
    "\n",
    "# Note: use zip(collection1,collection2) convert to dict() as an alternative for dict comprehension!\n",
    "my_dream11=dict(zip(jersey,cricketers))\n",
    "print(my_dream11)"
   ]
  },
  {
   "cell_type": "code",
   "execution_count": 21,
   "id": "a98e2b0a",
   "metadata": {},
   "outputs": [
    {
     "name": "stdout",
     "output_type": "stream",
     "text": [
      "[('server-1', '192.168.10.1', 'mumbai'), ('desktop-1', '8.8.8.8', 'north virginia'), ('laptop-1', '172.16.0.1', 'ohio')]\n"
     ]
    }
   ],
   "source": [
    "computer_names=[\"server-1\",\"desktop-1\",\"laptop-1\"]\n",
    "ip_address=[\"192.168.10.1\",\"8.8.8.8\",\"172.16.0.1\"]\n",
    "regions=[\"mumbai\",\"north virginia\",\"ohio\"]\n",
    "\n",
    "# Note: if you have more than 2 collections you can pass zip to list conversion function\n",
    "# which will convert into list of tuples with one to one mapping!\n",
    "print(list(zip(computer_names,ip_address,regions)))"
   ]
  },
  {
   "cell_type": "code",
   "execution_count": 34,
   "id": "7589bfa1",
   "metadata": {},
   "outputs": [
    {
     "name": "stdout",
     "output_type": "stream",
     "text": [
      "['ASHWINI', 'DIPSIKHA', 'JAYANTH', 'KAVITA', 'NISHA']\n",
      "{'DIPSIKHA', 'ASHWINI', 'NISHA', 'KAVITA', 'JAYANTH'}\n",
      "<generator object <genexpr> at 0x00000243500ACB30>\n",
      "ASHWINI DIPSIKHA JAYANTH KAVITA NISHA "
     ]
    }
   ],
   "source": [
    "names=[\"ashwini\",\"dipsikha\",\"jayanth\",\"kavita\",\"nisha\"]\n",
    "\n",
    "#upper_case=[]\n",
    "#for name in names:\n",
    "    #upper_case.append(name.upper())\n",
    "\n",
    "# list comprehension\n",
    "upper_case=[name.upper() for name in names ] \n",
    "print(upper_case)\n",
    "# set comprehension\n",
    "upper_case={name.upper() for name in names}\n",
    "print(upper_case)\n",
    "# generator \n",
    "upper_case=(name.upper() for name in names)\n",
    "print(upper_case)\n",
    "for names in upper_case:\n",
    "    print(names,end=\" \")\n",
    "\n",
    "#ref=iter(upper_case)\n",
    "#print(next(ref))\n",
    "#print(next(ref))\n",
    "#print(next(ref))\n",
    "#print(next(ref))"
   ]
  },
  {
   "cell_type": "code",
   "execution_count": null,
   "id": "1cbf920e",
   "metadata": {},
   "outputs": [],
   "source": []
  }
 ],
 "metadata": {
  "kernelspec": {
   "display_name": "Python 3 (ipykernel)",
   "language": "python",
   "name": "python3"
  },
  "language_info": {
   "codemirror_mode": {
    "name": "ipython",
    "version": 3
   },
   "file_extension": ".py",
   "mimetype": "text/x-python",
   "name": "python",
   "nbconvert_exporter": "python",
   "pygments_lexer": "ipython3",
   "version": "3.9.7"
  }
 },
 "nbformat": 4,
 "nbformat_minor": 5
}
